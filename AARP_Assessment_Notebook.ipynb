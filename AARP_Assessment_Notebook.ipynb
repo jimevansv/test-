{
 "cells": [
  {
   "cell_type": "markdown",
   "metadata": {},
   "source": [
    "# AARP Assessment"
   ]
  },
  {
   "cell_type": "markdown",
   "metadata": {},
   "source": [
    "### Given\n",
    "In modeling process, data wrangling usually takes up to 80% of entire time. To build a good predictive model, except for trying various modeling methods, picking right (the most relevant) variables and transforming raw data to the useful information can significantly help boost model performance.  The purpose of this exercise is to evaluate your capability of analyzing and processing data related to individuals’ web behavior on AARP.org website.\n",
    "\n",
    "The table is named “online activity test” which includes each individual’s clicks on AARP.org in the past 6 months. This is a transaction table, so one individual can have multiple rows to show the clicks at different timestamps.  The table contains 5 columns and 10,000 rows.\n",
    "\n",
    "Member_id - if someone has member_id it means the person is an AARP paid member, otherwise not a member.\n",
    "Browser_id – every single click has a browser id shown up no matter members or non-members.\n",
    "Register_id – if someone has register_id it means the person created an online account on AARP.org, but didn’t necessarily join AARP membership (i.e. became a paid member)\n",
    "Date_time – it shows time stamp for every single click.\n",
    "url - it contains the URL string when individual clicked the page. On AARP site, left bar shows the major content channels (my screenshot only shows a portion). If this variable shows “games:/games/mahjongg-solitaire”, it means the person clicked something under “Games”. Similarly, “www:/health/conditions-treatments/info-2020/” means this URL belong to “Health” channel."
   ]
  },
  {
   "cell_type": "markdown",
   "metadata": {},
   "source": [
    "#### All the required Libraries"
   ]
  },
  {
   "cell_type": "code",
   "execution_count": 1,
   "metadata": {},
   "outputs": [],
   "source": [
    "import numpy as np\n",
    "import pandas as pd\n",
    "import os\n",
    "from datetime import date\n",
    "import calendar\n",
    "import seaborn as sns\n",
    "import matplotlib.pyplot as plt\n",
    "from matplotlib.pyplot import figure\n",
    "\n",
    "\n",
    "from pandas.api.types import CategoricalDtype"
   ]
  },
  {
   "cell_type": "markdown",
   "metadata": {},
   "source": [
    "#### Loading the Dataset"
   ]
  },
  {
   "cell_type": "code",
   "execution_count": 2,
   "metadata": {},
   "outputs": [
    {
     "data": {
      "text/html": [
       "<div>\n",
       "<style scoped>\n",
       "    .dataframe tbody tr th:only-of-type {\n",
       "        vertical-align: middle;\n",
       "    }\n",
       "\n",
       "    .dataframe tbody tr th {\n",
       "        vertical-align: top;\n",
       "    }\n",
       "\n",
       "    .dataframe thead th {\n",
       "        text-align: right;\n",
       "    }\n",
       "</style>\n",
       "<table border=\"1\" class=\"dataframe\">\n",
       "  <thead>\n",
       "    <tr style=\"text-align: right;\">\n",
       "      <th></th>\n",
       "      <th>member_id</th>\n",
       "      <th>browser_id</th>\n",
       "      <th>register_id</th>\n",
       "      <th>date_time</th>\n",
       "      <th>url</th>\n",
       "    </tr>\n",
       "  </thead>\n",
       "  <tbody>\n",
       "    <tr>\n",
       "      <th>0</th>\n",
       "      <td>NaN</td>\n",
       "      <td>3.020000e+37</td>\n",
       "      <td>NaN</td>\n",
       "      <td>2020-08-08T19:09:26.000Z</td>\n",
       "      <td>NaN</td>\n",
       "    </tr>\n",
       "    <tr>\n",
       "      <th>1</th>\n",
       "      <td>5.443924e+09</td>\n",
       "      <td>4.830000e+37</td>\n",
       "      <td>NaN</td>\n",
       "      <td>2020-08-08T19:53:48.000Z</td>\n",
       "      <td>www:/money/taxes/info-2020/states-that-dont-ta...</td>\n",
       "    </tr>\n",
       "    <tr>\n",
       "      <th>2</th>\n",
       "      <td>NaN</td>\n",
       "      <td>4.830000e+37</td>\n",
       "      <td>NaN</td>\n",
       "      <td>2020-08-08T19:32:18.000Z</td>\n",
       "      <td>games:/games/bubble-dragons</td>\n",
       "    </tr>\n",
       "    <tr>\n",
       "      <th>3</th>\n",
       "      <td>5.131951e+09</td>\n",
       "      <td>3.050000e+37</td>\n",
       "      <td>34999201.0</td>\n",
       "      <td>2020-08-08T19:03:08.000Z</td>\n",
       "      <td>games:/games/forty-thieves-solitaire</td>\n",
       "    </tr>\n",
       "    <tr>\n",
       "      <th>4</th>\n",
       "      <td>1.473905e+09</td>\n",
       "      <td>4.860000e+37</td>\n",
       "      <td>94842213.0</td>\n",
       "      <td>2020-08-08T19:37:28.000Z</td>\n",
       "      <td>games:/games/mahjongg-solitaire</td>\n",
       "    </tr>\n",
       "  </tbody>\n",
       "</table>\n",
       "</div>"
      ],
      "text/plain": [
       "      member_id    browser_id  register_id                 date_time  \\\n",
       "0           NaN  3.020000e+37          NaN  2020-08-08T19:09:26.000Z   \n",
       "1  5.443924e+09  4.830000e+37          NaN  2020-08-08T19:53:48.000Z   \n",
       "2           NaN  4.830000e+37          NaN  2020-08-08T19:32:18.000Z   \n",
       "3  5.131951e+09  3.050000e+37   34999201.0  2020-08-08T19:03:08.000Z   \n",
       "4  1.473905e+09  4.860000e+37   94842213.0  2020-08-08T19:37:28.000Z   \n",
       "\n",
       "                                                 url  \n",
       "0                                                NaN  \n",
       "1  www:/money/taxes/info-2020/states-that-dont-ta...  \n",
       "2                        games:/games/bubble-dragons  \n",
       "3               games:/games/forty-thieves-solitaire  \n",
       "4                    games:/games/mahjongg-solitaire  "
      ]
     },
     "execution_count": 2,
     "metadata": {},
     "output_type": "execute_result"
    }
   ],
   "source": [
    "data = pd.read_csv('online_activity_test_.csv')\n",
    "MyData=data.copy()\n",
    "data.head()"
   ]
  },
  {
   "cell_type": "markdown",
   "metadata": {},
   "source": [
    "# Data Understanding"
   ]
  },
  {
   "cell_type": "code",
   "execution_count": 3,
   "metadata": {},
   "outputs": [
    {
     "data": {
      "text/plain": [
       "(10000, 5)"
      ]
     },
     "execution_count": 3,
     "metadata": {},
     "output_type": "execute_result"
    }
   ],
   "source": [
    "# Shape of the dataset given\n",
    "data.shape"
   ]
  },
  {
   "cell_type": "code",
   "execution_count": 4,
   "metadata": {},
   "outputs": [
    {
     "data": {
      "text/plain": [
       "Index(['member_id', 'browser_id', 'register_id', 'date_time', 'url'], dtype='object')"
      ]
     },
     "execution_count": 4,
     "metadata": {},
     "output_type": "execute_result"
    }
   ],
   "source": [
    "# Names of the columns of the dataset\n",
    "data.columns"
   ]
  },
  {
   "cell_type": "code",
   "execution_count": 5,
   "metadata": {},
   "outputs": [
    {
     "data": {
      "text/plain": [
       "member_id      float64\n",
       "browser_id     float64\n",
       "register_id    float64\n",
       "date_time       object\n",
       "url             object\n",
       "dtype: object"
      ]
     },
     "execution_count": 5,
     "metadata": {},
     "output_type": "execute_result"
    }
   ],
   "source": [
    "# Types of each column in the dataset\n",
    "data.dtypes"
   ]
  },
  {
   "cell_type": "markdown",
   "metadata": {},
   "source": [
    "#### Datetime column is object datatype, changing the datatype to type DateTime"
   ]
  },
  {
   "cell_type": "code",
   "execution_count": 6,
   "metadata": {},
   "outputs": [
    {
     "data": {
      "text/plain": [
       "member_id                  float64\n",
       "browser_id                 float64\n",
       "register_id                float64\n",
       "date_time      datetime64[ns, UTC]\n",
       "url                         object\n",
       "dtype: object"
      ]
     },
     "execution_count": 6,
     "metadata": {},
     "output_type": "execute_result"
    }
   ],
   "source": [
    "data['date_time'] = pd.to_datetime(data['date_time'])\n",
    "data.dtypes"
   ]
  },
  {
   "cell_type": "code",
   "execution_count": 7,
   "metadata": {},
   "outputs": [
    {
     "data": {
      "text/plain": [
       "1376"
      ]
     },
     "execution_count": 7,
     "metadata": {},
     "output_type": "execute_result"
    }
   ],
   "source": [
    "#### Number of Unique URLs\n",
    "len(data['url'].unique())"
   ]
  },
  {
   "cell_type": "code",
   "execution_count": 8,
   "metadata": {},
   "outputs": [
    {
     "data": {
      "text/plain": [
       "2491"
      ]
     },
     "execution_count": 8,
     "metadata": {},
     "output_type": "execute_result"
    }
   ],
   "source": [
    "#### Number of Unique Members\n",
    "len(data['member_id'].unique())"
   ]
  },
  {
   "cell_type": "code",
   "execution_count": 9,
   "metadata": {},
   "outputs": [
    {
     "data": {
      "text/plain": [
       "1371"
      ]
     },
     "execution_count": 9,
     "metadata": {},
     "output_type": "execute_result"
    }
   ],
   "source": [
    "#### Number of Unique browser_ids\n",
    "len(data['browser_id'].unique())"
   ]
  },
  {
   "cell_type": "markdown",
   "metadata": {},
   "source": [
    "Since browser_id is rounded off to the second decimal, we have got duplicates. Nevertheless we shall take a decision if this column isnt significant"
   ]
  },
  {
   "cell_type": "code",
   "execution_count": 10,
   "metadata": {},
   "outputs": [],
   "source": [
    "def check_url(value): \n",
    "    '''\n",
    "    Function used for plotting the url information against the hour\n",
    "    returns 1: If URL not NULL\n",
    "            0: URL is NULL\n",
    "    '''\n",
    "    if pd.notnull(value): \n",
    "        return 1\n",
    "    return 0"
   ]
  },
  {
   "cell_type": "code",
   "execution_count": 11,
   "metadata": {},
   "outputs": [],
   "source": [
    "MyData['UrlCheck'] = [check_url(url) for url in data['url']]\n",
    "#MyData['Dates'] = pd.to_datetime(MyData['date_time']).dt.date\n",
    "#MyData['Times'] = pd.to_datetime(MyData['date_time']).dt.time\n",
    "MyData['Weekday'] = [calendar.day_name[pd.to_datetime(date).weekday()]  for date in MyData['date_time']]"
   ]
  },
  {
   "cell_type": "code",
   "execution_count": 12,
   "metadata": {},
   "outputs": [
    {
     "data": {
      "text/html": [
       "<div>\n",
       "<style scoped>\n",
       "    .dataframe tbody tr th:only-of-type {\n",
       "        vertical-align: middle;\n",
       "    }\n",
       "\n",
       "    .dataframe tbody tr th {\n",
       "        vertical-align: top;\n",
       "    }\n",
       "\n",
       "    .dataframe thead th {\n",
       "        text-align: right;\n",
       "    }\n",
       "</style>\n",
       "<table border=\"1\" class=\"dataframe\">\n",
       "  <thead>\n",
       "    <tr style=\"text-align: right;\">\n",
       "      <th></th>\n",
       "      <th>member_id</th>\n",
       "      <th>browser_id</th>\n",
       "      <th>register_id</th>\n",
       "      <th>date_time</th>\n",
       "      <th>url</th>\n",
       "      <th>UrlCheck</th>\n",
       "      <th>Weekday</th>\n",
       "    </tr>\n",
       "  </thead>\n",
       "  <tbody>\n",
       "    <tr>\n",
       "      <th>0</th>\n",
       "      <td>NaN</td>\n",
       "      <td>3.020000e+37</td>\n",
       "      <td>NaN</td>\n",
       "      <td>2020-08-08T19:09:26.000Z</td>\n",
       "      <td>NaN</td>\n",
       "      <td>0</td>\n",
       "      <td>Saturday</td>\n",
       "    </tr>\n",
       "    <tr>\n",
       "      <th>1</th>\n",
       "      <td>5.443924e+09</td>\n",
       "      <td>4.830000e+37</td>\n",
       "      <td>NaN</td>\n",
       "      <td>2020-08-08T19:53:48.000Z</td>\n",
       "      <td>www:/money/taxes/info-2020/states-that-dont-ta...</td>\n",
       "      <td>1</td>\n",
       "      <td>Saturday</td>\n",
       "    </tr>\n",
       "    <tr>\n",
       "      <th>2</th>\n",
       "      <td>NaN</td>\n",
       "      <td>4.830000e+37</td>\n",
       "      <td>NaN</td>\n",
       "      <td>2020-08-08T19:32:18.000Z</td>\n",
       "      <td>games:/games/bubble-dragons</td>\n",
       "      <td>1</td>\n",
       "      <td>Saturday</td>\n",
       "    </tr>\n",
       "  </tbody>\n",
       "</table>\n",
       "</div>"
      ],
      "text/plain": [
       "      member_id    browser_id  register_id                 date_time  \\\n",
       "0           NaN  3.020000e+37          NaN  2020-08-08T19:09:26.000Z   \n",
       "1  5.443924e+09  4.830000e+37          NaN  2020-08-08T19:53:48.000Z   \n",
       "2           NaN  4.830000e+37          NaN  2020-08-08T19:32:18.000Z   \n",
       "\n",
       "                                                 url  UrlCheck   Weekday  \n",
       "0                                                NaN         0  Saturday  \n",
       "1  www:/money/taxes/info-2020/states-that-dont-ta...         1  Saturday  \n",
       "2                        games:/games/bubble-dragons         1  Saturday  "
      ]
     },
     "execution_count": 12,
     "metadata": {},
     "output_type": "execute_result"
    }
   ],
   "source": [
    "MyData.head(3)"
   ]
  },
  {
   "cell_type": "code",
   "execution_count": 13,
   "metadata": {},
   "outputs": [],
   "source": [
    "## Function used for labelling all my plots\n",
    "def label (plot):\n",
    "    for rect in plot.patches:\n",
    "        # Get X and Y placement of label from rect.\n",
    "        y_value = rect.get_height()\n",
    "        x_value = rect.get_x() + rect.get_width() / 2\n",
    "\n",
    "        # Number of points between bar and label. Change to your liking.\n",
    "        space = 5\n",
    "        # Vertical alignment for positive values\n",
    "        va = 'bottom'\n",
    "\n",
    "        # If value of bar is negative: Place label below bar\n",
    "        if y_value < 0:\n",
    "            # Invert space to place label below\n",
    "            space *= -1\n",
    "            # Vertically align label at top\n",
    "            va = 'top'\n",
    "            # Use Y value as label and format number with one decimal place\n",
    "        label = \"{:.1f}\".format(y_value)\n",
    "\n",
    "            # Create annotation\n",
    "        plot.annotate(\n",
    "            label,                      # Use `label` as label\n",
    "            (x_value, y_value),         # Place label at end of the bar\n",
    "            xytext=(0, space),          # Vertically shift label by `space`\n",
    "            textcoords=\"offset points\", # Interpret `xytext` as offset in points\n",
    "            ha='center',                # Horizontally center label\n",
    "            va=va)                      # Vertically align label differently for\n",
    "                                            # positive and negative values.\n",
    "    plt.show()\n",
    "    "
   ]
  },
  {
   "cell_type": "code",
   "execution_count": 14,
   "metadata": {},
   "outputs": [
    {
     "data": {
      "image/png": "[encoded data removed]",
      "text/plain": [
       "<Figure size 432x288 with 1 Axes>"
      ]
     },
     "metadata": {},
     "output_type": "display_data"
    }
   ],
   "source": [
    "sns.set(rc={'figure.figsize':(6,4)})\n",
    "sns.set(style=\"ticks\", color_codes=True)\n",
    "plot = sns.countplot(x='Weekday', data = MyData, order = MyData['Weekday'].value_counts().index)\n",
    "plot.set_title('Data according to the day of the Week')\n",
    "plot.set_xlabel('Weekday')\n",
    "plot.set_ylabel('Number of entries')\n",
    "label(plot)"
   ]
  },
  {
   "cell_type": "markdown",
   "metadata": {},
   "source": [
    "### From the above plot, we can understand the spread of the data according to the weekday. Clearly, we do not have data from Sundays and Thursdays over the past 6 months. "
   ]
  },
  {
   "cell_type": "markdown",
   "metadata": {},
   "source": [
    "### Double click on the plot to have a zoomed view"
   ]
  },
  {
   "cell_type": "code",
   "execution_count": 15,
   "metadata": {},
   "outputs": [
    {
     "data": {
      "text/plain": [
       "<Figure size 1600x480 with 0 Axes>"
      ]
     },
     "metadata": {},
     "output_type": "display_data"
    },
    {
     "data": {
      "image/png": "[encoded data removed]",
      "text/plain": [
       "<Figure size 1440x432 with 1 Axes>"
      ]
     },
     "metadata": {},
     "output_type": "display_data"
    }
   ],
   "source": [
    "figure(num=None, figsize=(20, 6), dpi=80, facecolor='w', edgecolor='k')\n",
    "sns.set(rc={'figure.figsize':(20,6)})\n",
    "sns.set(style=\"ticks\", color_codes=True)\n",
    "names = [ 'Monday', 'Tuesday', 'Wednesday', 'Thursday','Friday', 'Saturday', 'Sunday']\n",
    "category_type = CategoricalDtype(categories=names, ordered=True)\n",
    "MyData['Weekday'] = MyData['Weekday'].astype(category_type)\n",
    "MyData.groupby([pd.to_datetime(MyData['date_time']).dt.hour, 'Weekday'])['UrlCheck'].sum().fillna(0).unstack().plot()\n",
    "plt.show()"
   ]
  },
  {
   "cell_type": "markdown",
   "metadata": {},
   "source": [
    "### Plot showing the how busy the website is, according to the hour of the day\n",
    "\n",
    "#### From the Plot, one main observation is:\n",
    " - On Tuesdays, between 2 PM and 4 PM the traffice on the website is significantly high\n",
    " "
   ]
  },
  {
   "cell_type": "markdown",
   "metadata": {},
   "source": [
    "#### Functions to key or value from a defined dictionary"
   ]
  },
  {
   "cell_type": "code",
   "execution_count": 16,
   "metadata": {},
   "outputs": [],
   "source": [
    "def get_value(dictionary, this_key): \n",
    "    '''\n",
    "    Gives the value of a inputed key\n",
    "    dictionary: Dictionary from where the key has to be searched\n",
    "    this_key: key for which value is required\n",
    "    '''\n",
    "    for key, value in dictionary.items(): \n",
    "         if this_key==key: \n",
    "            return value \n",
    "def get_key(dictionary, this_value): \n",
    "    '''\n",
    "    Gives the key of a inputed value\n",
    "    dictionary: Dictionary from where the key has to be searched\n",
    "    this_value: value for which key is required\n",
    "    '''\n",
    "    for key, value in dictionary.items(): \n",
    "         if this_value == value: \n",
    "                return key"
   ]
  },
  {
   "cell_type": "markdown",
   "metadata": {},
   "source": [
    "# Data Cleaning"
   ]
  },
  {
   "cell_type": "markdown",
   "metadata": {},
   "source": [
    "### Handling Missing Data"
   ]
  },
  {
   "cell_type": "markdown",
   "metadata": {},
   "source": [
    "#### There might be few users who were registered users and have become members after some time, initially they would not have a member_id, but once they are members, they would have one. Let us see if there are any cases like above."
   ]
  },
  {
   "cell_type": "code",
   "execution_count": 17,
   "metadata": {},
   "outputs": [
    {
     "name": "stdout",
     "output_type": "stream",
     "text": [
      "There are 0 users with the above condition\n"
     ]
    }
   ],
   "source": [
    "reg_dict={}\n",
    "count=0\n",
    "for index, row in MyData.iterrows():\n",
    "    register_id = row['register_id']\n",
    "    \n",
    "    if pd.notnull(register_id) and pd.notnull(row['member_id']): \n",
    "        \n",
    "        if register_id in reg_dict:\n",
    "            continue\n",
    "        else: \n",
    "            #print(' One ')\n",
    "            reg_dict.update({row['register_id']:row['member_id']})  \n",
    "\n",
    "for index, row in MyData.iterrows():\n",
    "    register_id=row['register_id']\n",
    "    if pd.notnull(register_id):\n",
    "        member_id=get_value(reg_dict, register_id)\n",
    "        \n",
    "        #print(member_id)\n",
    "        old_member_id=MyData.at[index, 'member_id']\n",
    "        if old_member_id!=member_id and member_id!=None:\n",
    "            count+=1\n",
    "            print('Change in member_id from', old_member_id, member_id)\n",
    "            print(index)\n",
    "print('There are', count, 'users with the above condition')  "
   ]
  },
  {
   "cell_type": "markdown",
   "metadata": {},
   "source": [
    "#### Similarly, having only member_id in few months and later also possessing register_id once registered"
   ]
  },
  {
   "cell_type": "code",
   "execution_count": 18,
   "metadata": {},
   "outputs": [
    {
     "name": "stdout",
     "output_type": "stream",
     "text": [
      "There are 29 users with the above condition\n"
     ]
    }
   ],
   "source": [
    "mem_dict={}\n",
    "count=0\n",
    "for index, row in MyData.iterrows():  \n",
    "    member_id = row['member_id']\n",
    "    \n",
    "    if pd.notnull(row['register_id']) and pd.notnull(member_id): \n",
    "        \n",
    "        if member_id in mem_dict:\n",
    "            continue\n",
    "        else: \n",
    "            #print(' One ')\n",
    "            mem_dict.update({member_id:row['register_id']})\n",
    "            \n",
    "count=0\n",
    "for index, row in MyData.iterrows():\n",
    "    member_id=row['member_id']\n",
    "    if pd.notnull(member_id):\n",
    "        register_id=get_value(mem_dict, member_id)\n",
    "        \n",
    "        #print(member_id)\n",
    "        old_register_id=MyData.at[index, 'register_id']\n",
    "        if old_register_id!=register_id and register_id!=None:\n",
    "            count+=1            \n",
    "            MyData.at[index, 'register_id'] = register_id\n",
    "            \n",
    "print('There are', count, 'users with the above condition')\n",
    "        "
   ]
  },
  {
   "cell_type": "markdown",
   "metadata": {},
   "source": [
    "#### Handling NULL URLs\n",
    "\n",
    " - URL being Null --> Logical Understanding is, these records have the HomePage of the website. Since there was no click recorded on the website, it is NULL Value. So, few records only accessed the HomeContent. There are 4494 records where URL is missing. \n",
    " \n",
    " - NULL url - replaced by HomePage"
   ]
  },
  {
   "cell_type": "markdown",
   "metadata": {},
   "source": [
    "### Processing the URL"
   ]
  },
  {
   "cell_type": "code",
   "execution_count": 19,
   "metadata": {},
   "outputs": [],
   "source": [
    "def url_process(url):\n",
    "    '''\n",
    "    Funtion to clean the url and retrieve the words list from url\n",
    "    input: url\n",
    "    output: words in url\n",
    "    '''\n",
    "    url_contents=(url.replace(':', '/')).replace('.', '/').replace('-', '/').replace('_', '/').split('/')\n",
    "    # To remove duplicates from the list\n",
    "    url_contents=list(dict.fromkeys(url_contents))\n",
    "    url_contents = [elem for elem in url_contents if elem not in ('www', 'html','')]\n",
    "    return url_contents\n",
    "    "
   ]
  },
  {
   "cell_type": "code",
   "execution_count": 20,
   "metadata": {},
   "outputs": [],
   "source": [
    "def url_clean(url):\n",
    "    '''\n",
    "    Returns URLContents if URL is not NULL, \n",
    "    else returns empty list\n",
    "    '''\n",
    "    if pd.notnull(url):  \n",
    "        url_contents = url_process(url)\n",
    "        return url_contents\n",
    "    return []"
   ]
  },
  {
   "cell_type": "code",
   "execution_count": 21,
   "metadata": {},
   "outputs": [],
   "source": [
    "MyData['URLContents'] =  [url_clean(url) for url in MyData['url']]"
   ]
  },
  {
   "cell_type": "code",
   "execution_count": 22,
   "metadata": {},
   "outputs": [
    {
     "data": {
      "text/html": [
       "<div>\n",
       "<style scoped>\n",
       "    .dataframe tbody tr th:only-of-type {\n",
       "        vertical-align: middle;\n",
       "    }\n",
       "\n",
       "    .dataframe tbody tr th {\n",
       "        vertical-align: top;\n",
       "    }\n",
       "\n",
       "    .dataframe thead th {\n",
       "        text-align: right;\n",
       "    }\n",
       "</style>\n",
       "<table border=\"1\" class=\"dataframe\">\n",
       "  <thead>\n",
       "    <tr style=\"text-align: right;\">\n",
       "      <th></th>\n",
       "      <th>member_id</th>\n",
       "      <th>browser_id</th>\n",
       "      <th>register_id</th>\n",
       "      <th>date_time</th>\n",
       "      <th>url</th>\n",
       "      <th>UrlCheck</th>\n",
       "      <th>Weekday</th>\n",
       "      <th>URLContents</th>\n",
       "    </tr>\n",
       "  </thead>\n",
       "  <tbody>\n",
       "    <tr>\n",
       "      <th>0</th>\n",
       "      <td>NaN</td>\n",
       "      <td>3.020000e+37</td>\n",
       "      <td>NaN</td>\n",
       "      <td>2020-08-08T19:09:26.000Z</td>\n",
       "      <td>NaN</td>\n",
       "      <td>0</td>\n",
       "      <td>Saturday</td>\n",
       "      <td>[]</td>\n",
       "    </tr>\n",
       "    <tr>\n",
       "      <th>1</th>\n",
       "      <td>5.443924e+09</td>\n",
       "      <td>4.830000e+37</td>\n",
       "      <td>NaN</td>\n",
       "      <td>2020-08-08T19:53:48.000Z</td>\n",
       "      <td>www:/money/taxes/info-2020/states-that-dont-ta...</td>\n",
       "      <td>1</td>\n",
       "      <td>Saturday</td>\n",
       "      <td>[money, taxes, info, 2020, states, that, dont,...</td>\n",
       "    </tr>\n",
       "    <tr>\n",
       "      <th>2</th>\n",
       "      <td>NaN</td>\n",
       "      <td>4.830000e+37</td>\n",
       "      <td>NaN</td>\n",
       "      <td>2020-08-08T19:32:18.000Z</td>\n",
       "      <td>games:/games/bubble-dragons</td>\n",
       "      <td>1</td>\n",
       "      <td>Saturday</td>\n",
       "      <td>[games, bubble, dragons]</td>\n",
       "    </tr>\n",
       "  </tbody>\n",
       "</table>\n",
       "</div>"
      ],
      "text/plain": [
       "      member_id    browser_id  register_id                 date_time  \\\n",
       "0           NaN  3.020000e+37          NaN  2020-08-08T19:09:26.000Z   \n",
       "1  5.443924e+09  4.830000e+37          NaN  2020-08-08T19:53:48.000Z   \n",
       "2           NaN  4.830000e+37          NaN  2020-08-08T19:32:18.000Z   \n",
       "\n",
       "                                                 url  UrlCheck   Weekday  \\\n",
       "0                                                NaN         0  Saturday   \n",
       "1  www:/money/taxes/info-2020/states-that-dont-ta...         1  Saturday   \n",
       "2                        games:/games/bubble-dragons         1  Saturday   \n",
       "\n",
       "                                         URLContents  \n",
       "0                                                 []  \n",
       "1  [money, taxes, info, 2020, states, that, dont,...  \n",
       "2                           [games, bubble, dragons]  "
      ]
     },
     "execution_count": 22,
     "metadata": {},
     "output_type": "execute_result"
    }
   ],
   "source": [
    "MyData.head(3)"
   ]
  },
  {
   "cell_type": "markdown",
   "metadata": {},
   "source": [
    "#### Setting a Category from the URL Contents"
   ]
  },
  {
   "cell_type": "code",
   "execution_count": 23,
   "metadata": {},
   "outputs": [],
   "source": [
    "def set_category(urlcontents):\n",
    "    if len(urlcontents)==0:\n",
    "        return 'HomePage'\n",
    "    if 'games' in urlcontents:\n",
    "        return 'Games'\n",
    "    elif 'health' in urlcontents:\n",
    "        return 'Health'\n",
    "    elif 'secure' in urlcontents:\n",
    "        return 'Login'\n",
    "    \n",
    "    elif 'jobs' in urlcontents:\n",
    "        return 'Job Search'\n",
    "    elif 'job' in urlcontents:\n",
    "        return 'Job Search'\n",
    "    elif 'money' in urlcontents:\n",
    "        return 'Money/Retirement'\n",
    "    elif 'work' in urlcontents:\n",
    "        return 'Job Search'\n",
    "    elif 'videos' in urlcontents:\n",
    "        return 'Entertainment/Videos'\n",
    "    elif 'entertainment' in urlcontents:\n",
    "        return 'Entertainment/Videos'\n",
    "    elif 'retirement' in urlcontents:\n",
    "        return 'Money/Retirement'\n",
    "    \n",
    "    elif 'rewards' in urlcontents:\n",
    "        return 'Rewards/Benefits'\n",
    "    elif 'benefits-discounts' in urlcontents:\n",
    "        return 'Rewards/Benefits'\n",
    "    elif 'travel' in urlcontents:\n",
    "        return 'Others'\n",
    "    elif 'info' in urlcontents:\n",
    "        return 'Seeking Info'\n",
    "    \n",
    "    elif 'membership' in urlcontents:\n",
    "        return 'Rewards/Benefits'\n",
    "    \n",
    "    elif 'espanol' in urlcontents:\n",
    "        if 'salud' in urlcontents:\n",
    "            return 'Health'\n",
    "        elif 'entretenimiento' in urlcontents:\n",
    "            return 'Entertainment/Videos'\n",
    "        return 'Others'\n",
    "    return 'Others'"
   ]
  },
  {
   "cell_type": "code",
   "execution_count": 24,
   "metadata": {},
   "outputs": [],
   "source": [
    "MyData['Category'] = [set_category(urlcontents) for urlcontents in MyData['URLContents']]"
   ]
  },
  {
   "cell_type": "code",
   "execution_count": 25,
   "metadata": {},
   "outputs": [
    {
     "data": {
      "text/html": [
       "<div>\n",
       "<style scoped>\n",
       "    .dataframe tbody tr th:only-of-type {\n",
       "        vertical-align: middle;\n",
       "    }\n",
       "\n",
       "    .dataframe tbody tr th {\n",
       "        vertical-align: top;\n",
       "    }\n",
       "\n",
       "    .dataframe thead th {\n",
       "        text-align: right;\n",
       "    }\n",
       "</style>\n",
       "<table border=\"1\" class=\"dataframe\">\n",
       "  <thead>\n",
       "    <tr style=\"text-align: right;\">\n",
       "      <th></th>\n",
       "      <th>member_id</th>\n",
       "      <th>browser_id</th>\n",
       "      <th>register_id</th>\n",
       "      <th>date_time</th>\n",
       "      <th>url</th>\n",
       "      <th>UrlCheck</th>\n",
       "      <th>Weekday</th>\n",
       "      <th>URLContents</th>\n",
       "      <th>Category</th>\n",
       "    </tr>\n",
       "  </thead>\n",
       "  <tbody>\n",
       "    <tr>\n",
       "      <th>0</th>\n",
       "      <td>NaN</td>\n",
       "      <td>3.020000e+37</td>\n",
       "      <td>NaN</td>\n",
       "      <td>2020-08-08T19:09:26.000Z</td>\n",
       "      <td>NaN</td>\n",
       "      <td>0</td>\n",
       "      <td>Saturday</td>\n",
       "      <td>[]</td>\n",
       "      <td>HomePage</td>\n",
       "    </tr>\n",
       "    <tr>\n",
       "      <th>1</th>\n",
       "      <td>5.443924e+09</td>\n",
       "      <td>4.830000e+37</td>\n",
       "      <td>NaN</td>\n",
       "      <td>2020-08-08T19:53:48.000Z</td>\n",
       "      <td>www:/money/taxes/info-2020/states-that-dont-ta...</td>\n",
       "      <td>1</td>\n",
       "      <td>Saturday</td>\n",
       "      <td>[money, taxes, info, 2020, states, that, dont,...</td>\n",
       "      <td>Money/Retirement</td>\n",
       "    </tr>\n",
       "    <tr>\n",
       "      <th>2</th>\n",
       "      <td>NaN</td>\n",
       "      <td>4.830000e+37</td>\n",
       "      <td>NaN</td>\n",
       "      <td>2020-08-08T19:32:18.000Z</td>\n",
       "      <td>games:/games/bubble-dragons</td>\n",
       "      <td>1</td>\n",
       "      <td>Saturday</td>\n",
       "      <td>[games, bubble, dragons]</td>\n",
       "      <td>Games</td>\n",
       "    </tr>\n",
       "  </tbody>\n",
       "</table>\n",
       "</div>"
      ],
      "text/plain": [
       "      member_id    browser_id  register_id                 date_time  \\\n",
       "0           NaN  3.020000e+37          NaN  2020-08-08T19:09:26.000Z   \n",
       "1  5.443924e+09  4.830000e+37          NaN  2020-08-08T19:53:48.000Z   \n",
       "2           NaN  4.830000e+37          NaN  2020-08-08T19:32:18.000Z   \n",
       "\n",
       "                                                 url  UrlCheck   Weekday  \\\n",
       "0                                                NaN         0  Saturday   \n",
       "1  www:/money/taxes/info-2020/states-that-dont-ta...         1  Saturday   \n",
       "2                        games:/games/bubble-dragons         1  Saturday   \n",
       "\n",
       "                                         URLContents          Category  \n",
       "0                                                 []          HomePage  \n",
       "1  [money, taxes, info, 2020, states, that, dont,...  Money/Retirement  \n",
       "2                           [games, bubble, dragons]             Games  "
      ]
     },
     "execution_count": 25,
     "metadata": {},
     "output_type": "execute_result"
    }
   ],
   "source": [
    "MyData.head(3)"
   ]
  },
  {
   "cell_type": "code",
   "execution_count": 26,
   "metadata": {},
   "outputs": [
    {
     "data": {
      "text/plain": [
       "array(['HomePage', 'Money/Retirement', 'Games', 'Health', 'Login',\n",
       "       'Job Search', 'Entertainment/Videos', 'Rewards/Benefits', 'Others',\n",
       "       'Seeking Info'], dtype=object)"
      ]
     },
     "execution_count": 26,
     "metadata": {},
     "output_type": "execute_result"
    }
   ],
   "source": [
    "# All the categories/labels in the data\n",
    "MyData['Category'].unique()"
   ]
  },
  {
   "cell_type": "code",
   "execution_count": 27,
   "metadata": {},
   "outputs": [
    {
     "data": {
      "image/png": "[encoded data removed]",
      "text/plain": [
       "<Figure size 1584x720 with 1 Axes>"
      ]
     },
     "metadata": {},
     "output_type": "display_data"
    }
   ],
   "source": [
    "sns.set(rc={'figure.figsize':(22,10)})\n",
    "plot = sns.countplot(x='Category', data = MyData, order = MyData['Category'].value_counts().index)\n",
    "plot.set_title('Categories Distribution')\n",
    "plot.set_xlabel('Categories')\n",
    "plot.set_ylabel('Number of entries')\n",
    "label(plot)"
   ]
  },
  {
   "cell_type": "markdown",
   "metadata": {},
   "source": [
    "#### From the above plot, we can understand that most people played Games on the website, following by Seeking Health Info, etc,.. "
   ]
  },
  {
   "cell_type": "markdown",
   "metadata": {},
   "source": [
    "### Double click on the above image to see a zoomed image"
   ]
  },
  {
   "cell_type": "markdown",
   "metadata": {},
   "source": [
    "### Now, let us look at what time of the day these contents were accessed"
   ]
  },
  {
   "cell_type": "code",
   "execution_count": 28,
   "metadata": {},
   "outputs": [
    {
     "data": {
      "image/png": "[encoded data removed]",
      "text/plain": [
       "<Figure size 1440x432 with 1 Axes>"
      ]
     },
     "metadata": {},
     "output_type": "display_data"
    }
   ],
   "source": [
    "\n",
    "sns.set(rc={'figure.figsize':(20,6)})\n",
    "sns.set(style=\"ticks\", color_codes=True)\n",
    "MyData.groupby([pd.to_datetime(MyData['date_time']).dt.hour, 'Category'])['UrlCheck'].sum().fillna(0).unstack().plot()\n",
    "plt.show()"
   ]
  },
  {
   "cell_type": "markdown",
   "metadata": {},
   "source": [
    "### Double click on the above image to see a zoomed image"
   ]
  },
  {
   "cell_type": "markdown",
   "metadata": {},
   "source": [
    "### From the plot, we can say that in between 5:30 PM and 8 PM, website was most accessed by people to play GAMES"
   ]
  },
  {
   "cell_type": "code",
   "execution_count": 29,
   "metadata": {},
   "outputs": [
    {
     "data": {
      "text/plain": [
       "Index(['member_id', 'browser_id', 'register_id', 'date_time', 'url',\n",
       "       'UrlCheck', 'Weekday', 'URLContents', 'Category'],\n",
       "      dtype='object')"
      ]
     },
     "execution_count": 29,
     "metadata": {},
     "output_type": "execute_result"
    }
   ],
   "source": [
    "MyData.columns"
   ]
  },
  {
   "cell_type": "code",
   "execution_count": 30,
   "metadata": {},
   "outputs": [
    {
     "data": {
      "image/png": "[encoded data removed]",
      "text/plain": [
       "<Figure size 864x1440 with 1 Axes>"
      ]
     },
     "metadata": {},
     "output_type": "display_data"
    }
   ],
   "source": [
    "sns.set(rc={'figure.figsize':(12,20)})\n",
    "plot = sns.countplot(y= \"Category\", hue = \"Weekday\", data = MyData)\n",
    "plot.set_title('Category accessed according to Weekday')\n",
    "plot.set_xlabel('Number of clicks')\n",
    "plot.set_ylabel('Category')\n",
    "\n",
    "plt.show()"
   ]
  },
  {
   "cell_type": "markdown",
   "metadata": {},
   "source": [
    "#### From the plots:\n",
    "\n",
    "- 'Games' are mostly played on Saturdays and Wednesdays\n",
    "- 'Health' content is mostly accessed on Saturdays"
   ]
  },
  {
   "cell_type": "markdown",
   "metadata": {},
   "source": [
    "# Data Preparation"
   ]
  },
  {
   "cell_type": "markdown",
   "metadata": {},
   "source": [
    "### Need for new_id to not loose the data since there are a lot of null values"
   ]
  },
  {
   "cell_type": "markdown",
   "metadata": {},
   "source": [
    "Since there are many null values in member_id and register_id, I wanted to fill it with a unique id, as following:\n",
    "\n",
    "- New_id = if member_id and register id is not null --> RMx (x will increment by 1)\n",
    "-         if only member_id is present --> Mx\n",
    "-         if only register_id --> Rx\n",
    "-         if none --> Nx\n"
   ]
  },
  {
   "cell_type": "code",
   "execution_count": 31,
   "metadata": {},
   "outputs": [],
   "source": [
    "def give_new_id (member_id, register_id):\n",
    "    global iter1, iter2, iter3, iter4\n",
    "    \n",
    "    if pd.notnull(member_id) and pd.notnull(register_id):\n",
    "        iter1+=1\n",
    "        return 'RM'+str(iter1)\n",
    "    \n",
    "    elif pd.notnull(member_id):\n",
    "        iter2+=1\n",
    "        return 'M'+str(iter2)\n",
    "    elif pd.notnull(register_id):\n",
    "        iter3+=1\n",
    "        return 'R'+str(iter3)\n",
    "    else:\n",
    "        iter4+=1\n",
    "        return 'N'+str(iter4)\n",
    "    \n",
    "iter1, iter2, iter3, iter4 = 0,0,0,0\n",
    "temp_list=[]\n",
    "new_id_dict=dict()\n",
    "for index, row in MyData.iterrows():\n",
    "    \n",
    "        member_id=row['member_id']\n",
    "        register_id=row['register_id']\n",
    "        if [member_id, register_id] in new_id_dict.values():\n",
    "            temp_list.append(get_key(new_id_dict, [member_id, register_id]))\n",
    "            continue\n",
    "        new_id=give_new_id(member_id, register_id)\n",
    "        temp_list.append(new_id)\n",
    "        new_id_dict.update({new_id:[member_id, register_id]})\n",
    "        \n",
    "        "
   ]
  },
  {
   "cell_type": "code",
   "execution_count": 32,
   "metadata": {},
   "outputs": [
    {
     "data": {
      "text/plain": [
       "8977"
      ]
     },
     "execution_count": 32,
     "metadata": {},
     "output_type": "execute_result"
    }
   ],
   "source": [
    "len(new_id_dict)"
   ]
  },
  {
   "cell_type": "markdown",
   "metadata": {},
   "source": [
    "### So, there are 8977 unique IDs, meaning 8977 users have tried to access the website for various reasons. (Assuming all  the null entries to be different users)"
   ]
  },
  {
   "cell_type": "code",
   "execution_count": 33,
   "metadata": {},
   "outputs": [],
   "source": [
    "MyData['ID'] = temp_list"
   ]
  },
  {
   "cell_type": "code",
   "execution_count": 34,
   "metadata": {},
   "outputs": [
    {
     "data": {
      "text/html": [
       "<div>\n",
       "<style scoped>\n",
       "    .dataframe tbody tr th:only-of-type {\n",
       "        vertical-align: middle;\n",
       "    }\n",
       "\n",
       "    .dataframe tbody tr th {\n",
       "        vertical-align: top;\n",
       "    }\n",
       "\n",
       "    .dataframe thead th {\n",
       "        text-align: right;\n",
       "    }\n",
       "</style>\n",
       "<table border=\"1\" class=\"dataframe\">\n",
       "  <thead>\n",
       "    <tr style=\"text-align: right;\">\n",
       "      <th></th>\n",
       "      <th>member_id</th>\n",
       "      <th>browser_id</th>\n",
       "      <th>register_id</th>\n",
       "      <th>date_time</th>\n",
       "      <th>url</th>\n",
       "      <th>UrlCheck</th>\n",
       "      <th>Weekday</th>\n",
       "      <th>URLContents</th>\n",
       "      <th>Category</th>\n",
       "      <th>ID</th>\n",
       "    </tr>\n",
       "  </thead>\n",
       "  <tbody>\n",
       "    <tr>\n",
       "      <th>0</th>\n",
       "      <td>NaN</td>\n",
       "      <td>3.020000e+37</td>\n",
       "      <td>NaN</td>\n",
       "      <td>2020-08-08T19:09:26.000Z</td>\n",
       "      <td>NaN</td>\n",
       "      <td>0</td>\n",
       "      <td>Saturday</td>\n",
       "      <td>[]</td>\n",
       "      <td>HomePage</td>\n",
       "      <td>N1</td>\n",
       "    </tr>\n",
       "    <tr>\n",
       "      <th>1</th>\n",
       "      <td>5.443924e+09</td>\n",
       "      <td>4.830000e+37</td>\n",
       "      <td>NaN</td>\n",
       "      <td>2020-08-08T19:53:48.000Z</td>\n",
       "      <td>www:/money/taxes/info-2020/states-that-dont-ta...</td>\n",
       "      <td>1</td>\n",
       "      <td>Saturday</td>\n",
       "      <td>[money, taxes, info, 2020, states, that, dont,...</td>\n",
       "      <td>Money/Retirement</td>\n",
       "      <td>M1</td>\n",
       "    </tr>\n",
       "    <tr>\n",
       "      <th>2</th>\n",
       "      <td>NaN</td>\n",
       "      <td>4.830000e+37</td>\n",
       "      <td>NaN</td>\n",
       "      <td>2020-08-08T19:32:18.000Z</td>\n",
       "      <td>games:/games/bubble-dragons</td>\n",
       "      <td>1</td>\n",
       "      <td>Saturday</td>\n",
       "      <td>[games, bubble, dragons]</td>\n",
       "      <td>Games</td>\n",
       "      <td>N2</td>\n",
       "    </tr>\n",
       "  </tbody>\n",
       "</table>\n",
       "</div>"
      ],
      "text/plain": [
       "      member_id    browser_id  register_id                 date_time  \\\n",
       "0           NaN  3.020000e+37          NaN  2020-08-08T19:09:26.000Z   \n",
       "1  5.443924e+09  4.830000e+37          NaN  2020-08-08T19:53:48.000Z   \n",
       "2           NaN  4.830000e+37          NaN  2020-08-08T19:32:18.000Z   \n",
       "\n",
       "                                                 url  UrlCheck   Weekday  \\\n",
       "0                                                NaN         0  Saturday   \n",
       "1  www:/money/taxes/info-2020/states-that-dont-ta...         1  Saturday   \n",
       "2                        games:/games/bubble-dragons         1  Saturday   \n",
       "\n",
       "                                         URLContents          Category  ID  \n",
       "0                                                 []          HomePage  N1  \n",
       "1  [money, taxes, info, 2020, states, that, dont,...  Money/Retirement  M1  \n",
       "2                           [games, bubble, dragons]             Games  N2  "
      ]
     },
     "execution_count": 34,
     "metadata": {},
     "output_type": "execute_result"
    }
   ],
   "source": [
    "MyData.head(3)"
   ]
  },
  {
   "cell_type": "markdown",
   "metadata": {},
   "source": [
    "### Drop unwanted columns for analysis"
   ]
  },
  {
   "cell_type": "code",
   "execution_count": 35,
   "metadata": {},
   "outputs": [
    {
     "data": {
      "text/plain": [
       "Index(['member_id', 'browser_id', 'register_id', 'date_time', 'url',\n",
       "       'UrlCheck', 'Weekday', 'URLContents', 'Category', 'ID'],\n",
       "      dtype='object')"
      ]
     },
     "execution_count": 35,
     "metadata": {},
     "output_type": "execute_result"
    }
   ],
   "source": [
    "temp_data = MyData.copy()\n",
    "temp_data.columns"
   ]
  },
  {
   "cell_type": "code",
   "execution_count": 36,
   "metadata": {},
   "outputs": [],
   "source": [
    "temp_data=temp_data.drop(['member_id', 'browser_id', 'register_id', 'date_time', 'url', 'UrlCheck', 'Weekday'], axis=1)"
   ]
  },
  {
   "cell_type": "code",
   "execution_count": 37,
   "metadata": {},
   "outputs": [
    {
     "data": {
      "text/html": [
       "<div>\n",
       "<style scoped>\n",
       "    .dataframe tbody tr th:only-of-type {\n",
       "        vertical-align: middle;\n",
       "    }\n",
       "\n",
       "    .dataframe tbody tr th {\n",
       "        vertical-align: top;\n",
       "    }\n",
       "\n",
       "    .dataframe thead th {\n",
       "        text-align: right;\n",
       "    }\n",
       "</style>\n",
       "<table border=\"1\" class=\"dataframe\">\n",
       "  <thead>\n",
       "    <tr style=\"text-align: right;\">\n",
       "      <th></th>\n",
       "      <th>URLContents</th>\n",
       "      <th>Category</th>\n",
       "      <th>ID</th>\n",
       "    </tr>\n",
       "  </thead>\n",
       "  <tbody>\n",
       "    <tr>\n",
       "      <th>0</th>\n",
       "      <td>[]</td>\n",
       "      <td>HomePage</td>\n",
       "      <td>N1</td>\n",
       "    </tr>\n",
       "    <tr>\n",
       "      <th>1</th>\n",
       "      <td>[money, taxes, info, 2020, states, that, dont,...</td>\n",
       "      <td>Money/Retirement</td>\n",
       "      <td>M1</td>\n",
       "    </tr>\n",
       "    <tr>\n",
       "      <th>2</th>\n",
       "      <td>[games, bubble, dragons]</td>\n",
       "      <td>Games</td>\n",
       "      <td>N2</td>\n",
       "    </tr>\n",
       "  </tbody>\n",
       "</table>\n",
       "</div>"
      ],
      "text/plain": [
       "                                         URLContents          Category  ID\n",
       "0                                                 []          HomePage  N1\n",
       "1  [money, taxes, info, 2020, states, that, dont,...  Money/Retirement  M1\n",
       "2                           [games, bubble, dragons]             Games  N2"
      ]
     },
     "execution_count": 37,
     "metadata": {},
     "output_type": "execute_result"
    }
   ],
   "source": [
    "temp_data.head(3)"
   ]
  },
  {
   "cell_type": "markdown",
   "metadata": {},
   "source": [
    "#### There are multiple entries of same user.\n",
    "\n",
    "#### Groupby to concatenate results"
   ]
  },
  {
   "cell_type": "code",
   "execution_count": 38,
   "metadata": {},
   "outputs": [],
   "source": [
    "final_data=temp_data.groupby('ID').agg({'URLContents':'sum', 'Category': lambda x: '@'.join(x)}).copy()"
   ]
  },
  {
   "cell_type": "code",
   "execution_count": 39,
   "metadata": {},
   "outputs": [
    {
     "data": {
      "text/html": [
       "<div>\n",
       "<style scoped>\n",
       "    .dataframe tbody tr th:only-of-type {\n",
       "        vertical-align: middle;\n",
       "    }\n",
       "\n",
       "    .dataframe tbody tr th {\n",
       "        vertical-align: top;\n",
       "    }\n",
       "\n",
       "    .dataframe thead th {\n",
       "        text-align: right;\n",
       "    }\n",
       "</style>\n",
       "<table border=\"1\" class=\"dataframe\">\n",
       "  <thead>\n",
       "    <tr style=\"text-align: right;\">\n",
       "      <th></th>\n",
       "      <th>URLContents</th>\n",
       "      <th>Category</th>\n",
       "    </tr>\n",
       "    <tr>\n",
       "      <th>ID</th>\n",
       "      <th></th>\n",
       "      <th></th>\n",
       "    </tr>\n",
       "  </thead>\n",
       "  <tbody>\n",
       "    <tr>\n",
       "      <th>M1</th>\n",
       "      <td>[money, taxes, info, 2020, states, that, dont,...</td>\n",
       "      <td>Money/Retirement</td>\n",
       "    </tr>\n",
       "    <tr>\n",
       "      <th>M10</th>\n",
       "      <td>[health, conditions, treatments, info, 2020, l...</td>\n",
       "      <td>Health</td>\n",
       "    </tr>\n",
       "    <tr>\n",
       "      <th>M100</th>\n",
       "      <td>[health, conditions, treatments, info, 2020, e...</td>\n",
       "      <td>Health</td>\n",
       "    </tr>\n",
       "    <tr>\n",
       "      <th>M101</th>\n",
       "      <td>[health, conditions, treatments, info, 2020, e...</td>\n",
       "      <td>Health</td>\n",
       "    </tr>\n",
       "    <tr>\n",
       "      <th>M102</th>\n",
       "      <td>[health, conditions, treatments, info, 2020, f...</td>\n",
       "      <td>Health</td>\n",
       "    </tr>\n",
       "  </tbody>\n",
       "</table>\n",
       "</div>"
      ],
      "text/plain": [
       "                                            URLContents          Category\n",
       "ID                                                                       \n",
       "M1    [money, taxes, info, 2020, states, that, dont,...  Money/Retirement\n",
       "M10   [health, conditions, treatments, info, 2020, l...            Health\n",
       "M100  [health, conditions, treatments, info, 2020, e...            Health\n",
       "M101  [health, conditions, treatments, info, 2020, e...            Health\n",
       "M102  [health, conditions, treatments, info, 2020, f...            Health"
      ]
     },
     "execution_count": 39,
     "metadata": {},
     "output_type": "execute_result"
    }
   ],
   "source": [
    "final_data.head(5)"
   ]
  },
  {
   "cell_type": "markdown",
   "metadata": {},
   "source": [
    "### URLContents are words\n",
    "\n",
    "### Let us analyze some words"
   ]
  },
  {
   "cell_type": "code",
   "execution_count": 40,
   "metadata": {},
   "outputs": [
    {
     "name": "stderr",
     "output_type": "stream",
     "text": [
      "[nltk_data] Downloading package stopwords to\n",
      "[nltk_data]     C:\\Users\\jimev\\AppData\\Roaming\\nltk_data...\n",
      "[nltk_data]   Package stopwords is already up-to-date!\n"
     ]
    }
   ],
   "source": [
    "# Import Libraries required for NLP\n",
    "from nltk.probability import FreqDist\n",
    "import nltk\n",
    "from nltk.corpus import stopwords\n",
    "nltk.download('stopwords')\n",
    "stop_words = set(stopwords.words('english'))"
   ]
  },
  {
   "cell_type": "raw",
   "metadata": {},
   "source": [
    "all_words = []\n",
    "for wordlist in final_data.URLContents:\n",
    "    all_words += wordlist\n",
    "\n",
    "FreqDist(all_words).most_common()"
   ]
  },
  {
   "cell_type": "code",
   "execution_count": 42,
   "metadata": {},
   "outputs": [],
   "source": [
    "def remove_stopwords(contents): \n",
    "    '''\n",
    "    Removes stop_words from the URL Contents\n",
    "    '''\n",
    "    return [w for w in contents if not w in stop_words]\n"
   ]
  },
  {
   "cell_type": "code",
   "execution_count": 43,
   "metadata": {},
   "outputs": [],
   "source": [
    "for index, row in final_data.iterrows():\n",
    "    final_data.at[index, 'Category'] = list(set((row['Category']).split('@')))\n",
    "    final_data.at[index, 'URLContents'] = ' '.join(remove_stopwords(final_data.at[index, 'URLContents']))"
   ]
  },
  {
   "cell_type": "code",
   "execution_count": 44,
   "metadata": {},
   "outputs": [
    {
     "data": {
      "text/html": [
       "<div>\n",
       "<style scoped>\n",
       "    .dataframe tbody tr th:only-of-type {\n",
       "        vertical-align: middle;\n",
       "    }\n",
       "\n",
       "    .dataframe tbody tr th {\n",
       "        vertical-align: top;\n",
       "    }\n",
       "\n",
       "    .dataframe thead th {\n",
       "        text-align: right;\n",
       "    }\n",
       "</style>\n",
       "<table border=\"1\" class=\"dataframe\">\n",
       "  <thead>\n",
       "    <tr style=\"text-align: right;\">\n",
       "      <th></th>\n",
       "      <th>URLContents</th>\n",
       "      <th>Category</th>\n",
       "    </tr>\n",
       "    <tr>\n",
       "      <th>ID</th>\n",
       "      <th></th>\n",
       "      <th></th>\n",
       "    </tr>\n",
       "  </thead>\n",
       "  <tbody>\n",
       "    <tr>\n",
       "      <th>M1</th>\n",
       "      <td>money taxes info 2020 states dont tax retireme...</td>\n",
       "      <td>[Money/Retirement]</td>\n",
       "    </tr>\n",
       "    <tr>\n",
       "      <th>M10</th>\n",
       "      <td>health conditions treatments info 2020 lung co...</td>\n",
       "      <td>[Health]</td>\n",
       "    </tr>\n",
       "    <tr>\n",
       "      <th>M100</th>\n",
       "      <td>health conditions treatments info 2020 epa app...</td>\n",
       "      <td>[Health]</td>\n",
       "    </tr>\n",
       "  </tbody>\n",
       "</table>\n",
       "</div>"
      ],
      "text/plain": [
       "                                            URLContents            Category\n",
       "ID                                                                         \n",
       "M1    money taxes info 2020 states dont tax retireme...  [Money/Retirement]\n",
       "M10   health conditions treatments info 2020 lung co...            [Health]\n",
       "M100  health conditions treatments info 2020 epa app...            [Health]"
      ]
     },
     "execution_count": 44,
     "metadata": {},
     "output_type": "execute_result"
    }
   ],
   "source": [
    "final_data.head(3)"
   ]
  },
  {
   "cell_type": "markdown",
   "metadata": {},
   "source": [
    "# Model Building"
   ]
  },
  {
   "cell_type": "markdown",
   "metadata": {},
   "source": [
    "### This is a Multi-Label Problem. Meaning, a person can play games and also be interest in Health info and etc..,"
   ]
  },
  {
   "cell_type": "markdown",
   "metadata": {},
   "source": [
    "#### Transforming target_variable"
   ]
  },
  {
   "cell_type": "code",
   "execution_count": 45,
   "metadata": {},
   "outputs": [],
   "source": [
    "## All the required Libraries for Model Building\n",
    "from sklearn.preprocessing import MultiLabelBinarizer\n",
    "from sklearn.feature_extraction.text import TfidfVectorizer\n",
    "from sklearn.model_selection import train_test_split\n",
    "from sklearn.linear_model import LogisticRegression\n",
    "\n",
    "# Binary Relevance\n",
    "from sklearn.multiclass import OneVsRestClassifier\n",
    "\n",
    "# Performance metric\n",
    "from sklearn.metrics import f1_score"
   ]
  },
  {
   "cell_type": "code",
   "execution_count": 46,
   "metadata": {},
   "outputs": [],
   "source": [
    "\n",
    "\n",
    "multilabel_binarizer = MultiLabelBinarizer()\n",
    "multilabel_binarizer.fit(final_data['Category'])\n",
    "\n",
    "# transform target variable\n",
    "y = multilabel_binarizer.transform(final_data['Category'])"
   ]
  },
  {
   "cell_type": "code",
   "execution_count": 47,
   "metadata": {},
   "outputs": [],
   "source": [
    "tfidf_vectorizer = TfidfVectorizer(max_df=0.8, max_features=10000)"
   ]
  },
  {
   "cell_type": "code",
   "execution_count": 48,
   "metadata": {},
   "outputs": [],
   "source": [
    "xtrain, xval, ytrain, yval = train_test_split(final_data['URLContents'], y, test_size=0.2, random_state=9)"
   ]
  },
  {
   "cell_type": "code",
   "execution_count": 49,
   "metadata": {},
   "outputs": [],
   "source": [
    "xtrain_tfidf = tfidf_vectorizer.fit_transform(xtrain)\n",
    "xval_tfidf = tfidf_vectorizer.transform(xval)"
   ]
  },
  {
   "cell_type": "code",
   "execution_count": 50,
   "metadata": {},
   "outputs": [],
   "source": [
    "lr = LogisticRegression()\n",
    "clf = OneVsRestClassifier(lr)"
   ]
  },
  {
   "cell_type": "code",
   "execution_count": 51,
   "metadata": {},
   "outputs": [
    {
     "name": "stderr",
     "output_type": "stream",
     "text": [
      "C:\\Anaconda3\\envs\\deeplearning\\lib\\site-packages\\sklearn\\linear_model\\logistic.py:432: FutureWarning: Default solver will be changed to 'lbfgs' in 0.22. Specify a solver to silence this warning.\n",
      "  FutureWarning)\n"
     ]
    },
    {
     "data": {
      "text/plain": [
       "OneVsRestClassifier(estimator=LogisticRegression(C=1.0, class_weight=None,\n",
       "                                                 dual=False, fit_intercept=True,\n",
       "                                                 intercept_scaling=1,\n",
       "                                                 l1_ratio=None, max_iter=100,\n",
       "                                                 multi_class='warn',\n",
       "                                                 n_jobs=None, penalty='l2',\n",
       "                                                 random_state=None,\n",
       "                                                 solver='warn', tol=0.0001,\n",
       "                                                 verbose=0, warm_start=False),\n",
       "                    n_jobs=None)"
      ]
     },
     "execution_count": 51,
     "metadata": {},
     "output_type": "execute_result"
    }
   ],
   "source": [
    "# fit model on train data\n",
    "clf.fit(xtrain_tfidf, ytrain)"
   ]
  },
  {
   "cell_type": "code",
   "execution_count": 52,
   "metadata": {},
   "outputs": [],
   "source": [
    "# make predictions for validation set\n",
    "y_pred = clf.predict(xval_tfidf)"
   ]
  },
  {
   "cell_type": "code",
   "execution_count": 53,
   "metadata": {},
   "outputs": [
    {
     "data": {
      "text/plain": [
       "array([1, 0, 0, 1, 0, 0, 0, 0, 0, 0])"
      ]
     },
     "execution_count": 53,
     "metadata": {},
     "output_type": "execute_result"
    }
   ],
   "source": [
    "# One random output\n",
    "y_pred[1000]"
   ]
  },
  {
   "cell_type": "code",
   "execution_count": 54,
   "metadata": {},
   "outputs": [
    {
     "data": {
      "text/plain": [
       "('Entertainment/Videos', 'HomePage')"
      ]
     },
     "execution_count": 54,
     "metadata": {},
     "output_type": "execute_result"
    }
   ],
   "source": [
    "multilabel_binarizer.inverse_transform(y_pred)[1000]"
   ]
  },
  {
   "cell_type": "code",
   "execution_count": 55,
   "metadata": {},
   "outputs": [
    {
     "data": {
      "text/plain": [
       "0.9418221734357848"
      ]
     },
     "execution_count": 55,
     "metadata": {},
     "output_type": "execute_result"
    }
   ],
   "source": [
    "# evaluate performance\n",
    "f1_score(yval, y_pred, average=\"micro\")"
   ]
  },
  {
   "cell_type": "code",
   "execution_count": 56,
   "metadata": {},
   "outputs": [],
   "source": [
    "# predict probabilities\n",
    "y_pred_prob = clf.predict_proba(xval_tfidf)"
   ]
  },
  {
   "cell_type": "code",
   "execution_count": 57,
   "metadata": {},
   "outputs": [],
   "source": [
    "t = 0.3 # threshold value\n",
    "y_pred_new = (y_pred_prob >= t).astype(int)"
   ]
  },
  {
   "cell_type": "code",
   "execution_count": 58,
   "metadata": {},
   "outputs": [
    {
     "data": {
      "text/plain": [
       "0.9446202531645569"
      ]
     },
     "execution_count": 58,
     "metadata": {},
     "output_type": "execute_result"
    }
   ],
   "source": [
    "# evaluate performance\n",
    "f1_score(yval, y_pred_new, average=\"micro\")"
   ]
  },
  {
   "cell_type": "code",
   "execution_count": 59,
   "metadata": {},
   "outputs": [],
   "source": [
    "def results(value):\n",
    "    input_data=final_data.at[value[0], 'URLContents']\n",
    "    input_data_vec = tfidf_vectorizer.transform([input_data])\n",
    "    input_data_pred = clf.predict(input_data_vec)\n",
    "    return multilabel_binarizer.inverse_transform(input_data_pred)\n",
    "    "
   ]
  },
  {
   "cell_type": "code",
   "execution_count": 60,
   "metadata": {},
   "outputs": [],
   "source": [
    "def direct_results(input_data):\n",
    "    input_data_vec = tfidf_vectorizer.transform([input_data])\n",
    "    input_data_pred = clf.predict(input_data_vec)\n",
    "    return multilabel_binarizer.inverse_transform(input_data_pred)\n",
    "    "
   ]
  },
  {
   "cell_type": "code",
   "execution_count": 61,
   "metadata": {},
   "outputs": [
    {
     "data": {
      "text/html": [
       "<div>\n",
       "<style scoped>\n",
       "    .dataframe tbody tr th:only-of-type {\n",
       "        vertical-align: middle;\n",
       "    }\n",
       "\n",
       "    .dataframe tbody tr th {\n",
       "        vertical-align: top;\n",
       "    }\n",
       "\n",
       "    .dataframe thead th {\n",
       "        text-align: right;\n",
       "    }\n",
       "</style>\n",
       "<table border=\"1\" class=\"dataframe\">\n",
       "  <thead>\n",
       "    <tr style=\"text-align: right;\">\n",
       "      <th></th>\n",
       "      <th>member_id</th>\n",
       "      <th>browser_id</th>\n",
       "      <th>register_id</th>\n",
       "      <th>date_time</th>\n",
       "      <th>url</th>\n",
       "      <th>UrlCheck</th>\n",
       "      <th>Weekday</th>\n",
       "      <th>URLContents</th>\n",
       "      <th>Category</th>\n",
       "      <th>ID</th>\n",
       "    </tr>\n",
       "  </thead>\n",
       "  <tbody>\n",
       "    <tr>\n",
       "      <th>0</th>\n",
       "      <td>NaN</td>\n",
       "      <td>3.020000e+37</td>\n",
       "      <td>NaN</td>\n",
       "      <td>2020-08-08T19:09:26.000Z</td>\n",
       "      <td>NaN</td>\n",
       "      <td>0</td>\n",
       "      <td>Saturday</td>\n",
       "      <td>[]</td>\n",
       "      <td>HomePage</td>\n",
       "      <td>N1</td>\n",
       "    </tr>\n",
       "    <tr>\n",
       "      <th>1</th>\n",
       "      <td>5.443924e+09</td>\n",
       "      <td>4.830000e+37</td>\n",
       "      <td>NaN</td>\n",
       "      <td>2020-08-08T19:53:48.000Z</td>\n",
       "      <td>www:/money/taxes/info-2020/states-that-dont-ta...</td>\n",
       "      <td>1</td>\n",
       "      <td>Saturday</td>\n",
       "      <td>[money, taxes, info, 2020, states, that, dont,...</td>\n",
       "      <td>Money/Retirement</td>\n",
       "      <td>M1</td>\n",
       "    </tr>\n",
       "    <tr>\n",
       "      <th>2</th>\n",
       "      <td>NaN</td>\n",
       "      <td>4.830000e+37</td>\n",
       "      <td>NaN</td>\n",
       "      <td>2020-08-08T19:32:18.000Z</td>\n",
       "      <td>games:/games/bubble-dragons</td>\n",
       "      <td>1</td>\n",
       "      <td>Saturday</td>\n",
       "      <td>[games, bubble, dragons]</td>\n",
       "      <td>Games</td>\n",
       "      <td>N2</td>\n",
       "    </tr>\n",
       "  </tbody>\n",
       "</table>\n",
       "</div>"
      ],
      "text/plain": [
       "      member_id    browser_id  register_id                 date_time  \\\n",
       "0           NaN  3.020000e+37          NaN  2020-08-08T19:09:26.000Z   \n",
       "1  5.443924e+09  4.830000e+37          NaN  2020-08-08T19:53:48.000Z   \n",
       "2           NaN  4.830000e+37          NaN  2020-08-08T19:32:18.000Z   \n",
       "\n",
       "                                                 url  UrlCheck   Weekday  \\\n",
       "0                                                NaN         0  Saturday   \n",
       "1  www:/money/taxes/info-2020/states-that-dont-ta...         1  Saturday   \n",
       "2                        games:/games/bubble-dragons         1  Saturday   \n",
       "\n",
       "                                         URLContents          Category  ID  \n",
       "0                                                 []          HomePage  N1  \n",
       "1  [money, taxes, info, 2020, states, that, dont,...  Money/Retirement  M1  \n",
       "2                           [games, bubble, dragons]             Games  N2  "
      ]
     },
     "execution_count": 61,
     "metadata": {},
     "output_type": "execute_result"
    }
   ],
   "source": [
    "MyData.head(3)"
   ]
  },
  {
   "cell_type": "code",
   "execution_count": 62,
   "metadata": {},
   "outputs": [],
   "source": [
    "def predict_behaviour(member_id=None, register_id=None, url=None):\n",
    "    global MyData, temp_data\n",
    "    try:\n",
    "        \n",
    "        if member_id==None and register_id==None and url==None:\n",
    "            print('Invalid Input: Give atleast member_id or register_id of the user that you want to learn the behaviour.\\n', \\\n",
    "            'Or atleast provide the recent URL that the user has clicked.\\n')\n",
    "            return \n",
    "        elif member_id==None and register_id!=None:\n",
    "            print('You are requesting behaviour of a user having', register_id, 'as the register_id.\\n')\n",
    "            new_id=MyData.loc[MyData['register_id']==register_id]['ID'].values\n",
    "            return results(new_id)\n",
    "\n",
    "        elif member_id!=None and register_id==None:\n",
    "            print('You are requesting behaviour of a user having', member_id, 'as the member_id.\\n')\n",
    "            new_id=MyData.loc[MyData['member_id']==member_id]['ID'].values\n",
    "            return results(new_id)\n",
    "        elif member_id==None and register_id==None and url!=None:\n",
    "            print('You have entered Users last browsed url. The behaviour of the user might be something like this:\\n')            \n",
    "            input_data=' '.join(remove_stopwords(url_process(url)))\n",
    "            return direct_results(input_data)\n",
    "\n",
    "        else:\n",
    "            print('You are requesting behaviour of a user having ', member_id, \n",
    "                  ' as the member_id and ', register_id, ' as the register_id.\\n')\n",
    "            value=MyData.loc[MyData['member_id']==member_id]['ID'].values\n",
    "            return results(value) \n",
    "    except IndexError: \n",
    "        print ('Oops! Input ID is wrong')\n",
    "\n",
    "    "
   ]
  },
  {
   "cell_type": "code",
   "execution_count": 63,
   "metadata": {},
   "outputs": [
    {
     "name": "stdout",
     "output_type": "stream",
     "text": [
      "You are requesting behaviour of a user having  4993978974  as the member_id and  100265260  as the register_id.\n",
      "\n"
     ]
    },
    {
     "data": {
      "text/plain": [
       "[('HomePage', 'Login')]"
      ]
     },
     "execution_count": 63,
     "metadata": {},
     "output_type": "execute_result"
    }
   ],
   "source": [
    "predict_behaviour(member_id=4993978974, register_id=100265260)"
   ]
  },
  {
   "cell_type": "code",
   "execution_count": 64,
   "metadata": {},
   "outputs": [
    {
     "name": "stdout",
     "output_type": "stream",
     "text": [
      "You have entered Users last browsed url. The behaviour of the user might be something like this:\n",
      "\n"
     ]
    },
    {
     "data": {
      "text/plain": [
       "[('Health',)]"
      ]
     },
     "execution_count": 64,
     "metadata": {},
     "output_type": "execute_result"
    }
   ],
   "source": [
    "predict_behaviour(url='www:/health/conditions-treatments/info-2020/avoid-low-concentrate-hand-sanitizers.html')"
   ]
  },
  {
   "cell_type": "code",
   "execution_count": 65,
   "metadata": {},
   "outputs": [
    {
     "name": "stdout",
     "output_type": "stream",
     "text": [
      "You are requesting behaviour of a user having 4097029971 as the member_id.\n",
      "\n"
     ]
    },
    {
     "data": {
      "text/plain": [
       "[('Seeking Info',)]"
      ]
     },
     "execution_count": 65,
     "metadata": {},
     "output_type": "execute_result"
    }
   ],
   "source": [
    "predict_behaviour(member_id=4097029971)"
   ]
  },
  {
   "cell_type": "code",
   "execution_count": 66,
   "metadata": {},
   "outputs": [
    {
     "name": "stdout",
     "output_type": "stream",
     "text": [
      "You are requesting behaviour of a user having 88770434 as the register_id.\n",
      "\n"
     ]
    },
    {
     "data": {
      "text/plain": [
       "[('HomePage', 'Rewards/Benefits')]"
      ]
     },
     "execution_count": 66,
     "metadata": {},
     "output_type": "execute_result"
    }
   ],
   "source": [
    "predict_behaviour(register_id=88770434)"
   ]
  },
  {
   "cell_type": "markdown",
   "metadata": {},
   "source": [
    "## With the above function predict_behavior, we can predict the behaviour of users"
   ]
  },
  {
   "cell_type": "markdown",
   "metadata": {},
   "source": [
    "### K-Means Clustering"
   ]
  },
  {
   "cell_type": "code",
   "execution_count": 67,
   "metadata": {},
   "outputs": [],
   "source": [
    "cluster_data=final_data.copy()"
   ]
  },
  {
   "cell_type": "code",
   "execution_count": 68,
   "metadata": {},
   "outputs": [
    {
     "data": {
      "text/html": [
       "<div>\n",
       "<style scoped>\n",
       "    .dataframe tbody tr th:only-of-type {\n",
       "        vertical-align: middle;\n",
       "    }\n",
       "\n",
       "    .dataframe tbody tr th {\n",
       "        vertical-align: top;\n",
       "    }\n",
       "\n",
       "    .dataframe thead th {\n",
       "        text-align: right;\n",
       "    }\n",
       "</style>\n",
       "<table border=\"1\" class=\"dataframe\">\n",
       "  <thead>\n",
       "    <tr style=\"text-align: right;\">\n",
       "      <th></th>\n",
       "      <th>URLContents</th>\n",
       "      <th>Category</th>\n",
       "    </tr>\n",
       "    <tr>\n",
       "      <th>ID</th>\n",
       "      <th></th>\n",
       "      <th></th>\n",
       "    </tr>\n",
       "  </thead>\n",
       "  <tbody>\n",
       "    <tr>\n",
       "      <th>M1</th>\n",
       "      <td>money taxes info 2020 states dont tax retireme...</td>\n",
       "      <td>[Money/Retirement]</td>\n",
       "    </tr>\n",
       "    <tr>\n",
       "      <th>M10</th>\n",
       "      <td>health conditions treatments info 2020 lung co...</td>\n",
       "      <td>[Health]</td>\n",
       "    </tr>\n",
       "    <tr>\n",
       "      <th>M100</th>\n",
       "      <td>health conditions treatments info 2020 epa app...</td>\n",
       "      <td>[Health]</td>\n",
       "    </tr>\n",
       "  </tbody>\n",
       "</table>\n",
       "</div>"
      ],
      "text/plain": [
       "                                            URLContents            Category\n",
       "ID                                                                         \n",
       "M1    money taxes info 2020 states dont tax retireme...  [Money/Retirement]\n",
       "M10   health conditions treatments info 2020 lung co...            [Health]\n",
       "M100  health conditions treatments info 2020 epa app...            [Health]"
      ]
     },
     "execution_count": 68,
     "metadata": {},
     "output_type": "execute_result"
    }
   ],
   "source": [
    "cluster_data.head(3)"
   ]
  },
  {
   "cell_type": "code",
   "execution_count": 69,
   "metadata": {},
   "outputs": [],
   "source": [
    "X_train = cluster_data['URLContents']"
   ]
  },
  {
   "cell_type": "code",
   "execution_count": 70,
   "metadata": {},
   "outputs": [
    {
     "data": {
      "text/plain": [
       "ID\n",
       "M1       money taxes info 2020 states dont tax retireme...\n",
       "M10      health conditions treatments info 2020 lung co...\n",
       "M100     health conditions treatments info 2020 epa app...\n",
       "M101     health conditions treatments info 2020 epa app...\n",
       "M102     health conditions treatments info 2020 fda han...\n",
       "                               ...                        \n",
       "RM995                               games spider solitaire\n",
       "RM996                                                     \n",
       "RM997                                         rewards earn\n",
       "RM998    games original klondike solitaire games origin...\n",
       "RM999                                secure account myaarp\n",
       "Name: URLContents, Length: 8977, dtype: object"
      ]
     },
     "execution_count": 70,
     "metadata": {},
     "output_type": "execute_result"
    }
   ],
   "source": [
    "X_train"
   ]
  },
  {
   "cell_type": "code",
   "execution_count": 71,
   "metadata": {},
   "outputs": [],
   "source": [
    "tfidf_vectorizer = TfidfVectorizer(max_df=0.8, max_features=10000)\n",
    "X_train_tfidf = tfidf_vectorizer.fit_transform(X_train)"
   ]
  },
  {
   "cell_type": "code",
   "execution_count": 72,
   "metadata": {},
   "outputs": [],
   "source": [
    "from sklearn.cluster import KMeans"
   ]
  },
  {
   "cell_type": "code",
   "execution_count": 73,
   "metadata": {},
   "outputs": [
    {
     "data": {
      "text/plain": [
       "KMeans(algorithm='auto', copy_x=True, init='k-means++', max_iter=300,\n",
       "       n_clusters=10, n_init=100, n_jobs=None, precompute_distances='auto',\n",
       "       random_state=None, tol=0.0001, verbose=0)"
      ]
     },
     "execution_count": 73,
     "metadata": {},
     "output_type": "execute_result"
    }
   ],
   "source": [
    "modelkmeans=KMeans(n_clusters=10, init='k-means++', n_init=100)\n",
    "modelkmeans.fit(X_train_tfidf)"
   ]
  },
  {
   "cell_type": "markdown",
   "metadata": {},
   "source": [
    "## Model Accuracy: \n",
    "\n",
    "## Logistic Regression ---- 94.46%"
   ]
  },
  {
   "cell_type": "markdown",
   "metadata": {},
   "source": [
    "## End of Analysis! Thank You! "
   ]
  },
  {
   "cell_type": "code",
   "execution_count": null,
   "metadata": {},
   "outputs": [],
   "source": []
  }
 ],
 "metadata": {
  "kernelspec": {
   "display_name": "Python 3",
   "language": "python",
   "name": "python3"
  },
  "language_info": {
   "codemirror_mode": {
    "name": "ipython",
    "version": 3
   },
   "file_extension": ".py",
   "mimetype": "text/x-python",
   "name": "python",
   "nbconvert_exporter": "python",
   "pygments_lexer": "ipython3",
   "version": "3.6.9"
  }
 },
 "nbformat": 4,
 "nbformat_minor": 2
}
